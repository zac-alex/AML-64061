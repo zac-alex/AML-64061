{
  "nbformat": 4,
  "nbformat_minor": 0,
  "metadata": {
    "colab": {
      "provenance": [],
      "authorship_tag": "ABX9TyNVql7YLdDmepDRAGY8pxn8",
      "include_colab_link": true
    },
    "kernelspec": {
      "name": "python3",
      "display_name": "Python 3"
    },
    "language_info": {
      "name": "python"
    }
  },
  "cells": [
    {
      "cell_type": "markdown",
      "metadata": {
        "id": "view-in-github",
        "colab_type": "text"
      },
      "source": [
        "<a href=\"https://colab.research.google.com/github/zac-alex/AML-64061/blob/main/AML_Assignment1.ipynb\" target=\"_parent\"><img src=\"https://colab.research.google.com/assets/colab-badge.svg\" alt=\"Open In Colab\"/></a>"
      ]
    },
    {
      "cell_type": "markdown",
      "source": [
        "Importing the required packages from numpy,keras & Tensor flow"
      ],
      "metadata": {
        "id": "4ke-NxYbFkuw"
      }
    },
    {
      "cell_type": "code",
      "execution_count": 4,
      "metadata": {
        "id": "BxvDt2ceN5on"
      },
      "outputs": [],
      "source": [
        "#importing required packages\n",
        "\n",
        "import numpy as np\n",
        "from keras.utils import to_categorical\n",
        "from keras import models\n",
        "from keras import layers\n",
        "from tensorflow.keras.optimizers import Adam\n",
        "from keras.datasets import imdb\n",
        "import tensorflow as tf\n",
        "\n"
      ]
    },
    {
      "cell_type": "markdown",
      "source": [
        "Loading the dataset with maximum word limit of 10,000"
      ],
      "metadata": {
        "id": "lK48YeKnE_Vq"
      }
    },
    {
      "cell_type": "code",
      "source": [
        "# Loading the dataset\n",
        "\n",
        "(train_data, train_labels), (test_data, test_labels)= imdb.load_data(num_words=10000)\n"
      ],
      "metadata": {
        "id": "6YMUCySwhBgI"
      },
      "execution_count": 5,
      "outputs": []
    },
    {
      "cell_type": "markdown",
      "source": [
        "One-hot encoding"
      ],
      "metadata": {
        "id": "HazM9q3XFGHF"
      }
    },
    {
      "cell_type": "code",
      "source": [
        "# Preparing the data\n",
        "\n",
        "def vectorize(sequences, dimension = 10000):\n",
        " results = np.zeros((len(sequences), dimension))\n",
        " for i, sequence in enumerate(sequences):\n",
        "  results[i, sequence] = 1\n",
        " return results"
      ],
      "metadata": {
        "id": "gSm_uXkxkM5S"
      },
      "execution_count": 6,
      "outputs": []
    },
    {
      "cell_type": "markdown",
      "source": [
        "Vectorizing the test,train data & labels"
      ],
      "metadata": {
        "id": "K5oDQQFqF7u4"
      }
    },
    {
      "cell_type": "code",
      "source": [
        "# Vectorizing the data\n",
        "\n",
        "y_train = np.asarray(train_labels).astype('float32')\n",
        "y_test = np.asarray(test_labels).astype('float32')\n",
        "\n",
        "# Vectorized training data\n",
        "\n",
        "x_train = vectorize(train_data)\n",
        "\n",
        "# Vectorized test data\n",
        "\n",
        "x_test = vectorize(test_data)\n",
        "\n"
      ],
      "metadata": {
        "id": "34VZBrKMhGo8"
      },
      "execution_count": 7,
      "outputs": []
    },
    {
      "cell_type": "markdown",
      "source": [
        "Model building using tanh, relu with 64 nodes,3 hidden layers **without dropout**"
      ],
      "metadata": {
        "id": "DrQOGG4kGIs2"
      }
    },
    {
      "cell_type": "code",
      "source": [
        "# Model building for 2 epochs\n",
        "\n",
        "model = models.Sequential()\n",
        "# Input - Layer\n",
        "model.add(layers.Dense(64, activation = \"tanh\", input_shape=(10000, )))\n",
        "# Hidden - Layers\n",
        "model.add(layers.Dense(64, activation = \"relu\"))\n",
        "model.add(layers.Dense(64, activation = \"relu\"))\n",
        "model.add(layers.Dense(64, activation = \"relu\"))\n",
        "# Output- Layer\n",
        "model.add(layers.Dense(1, activation = \"sigmoid\"))\n",
        "model.summary()"
      ],
      "metadata": {
        "colab": {
          "base_uri": "https://localhost:8080/"
        },
        "id": "aoSWS41ZkGCk",
        "outputId": "f42a16ce-40d2-4d78-c588-e17079456fd3"
      },
      "execution_count": 8,
      "outputs": [
        {
          "output_type": "stream",
          "name": "stdout",
          "text": [
            "Model: \"sequential\"\n",
            "_________________________________________________________________\n",
            " Layer (type)                Output Shape              Param #   \n",
            "=================================================================\n",
            " dense (Dense)               (None, 64)                640064    \n",
            "                                                                 \n",
            " dense_1 (Dense)             (None, 64)                4160      \n",
            "                                                                 \n",
            " dense_2 (Dense)             (None, 64)                4160      \n",
            "                                                                 \n",
            " dense_3 (Dense)             (None, 64)                4160      \n",
            "                                                                 \n",
            " dense_4 (Dense)             (None, 1)                 65        \n",
            "                                                                 \n",
            "=================================================================\n",
            "Total params: 652,609\n",
            "Trainable params: 652,609\n",
            "Non-trainable params: 0\n",
            "_________________________________________________________________\n"
          ]
        }
      ]
    },
    {
      "cell_type": "markdown",
      "source": [
        "Compiling the model [ optimizer -rmsprop ] "
      ],
      "metadata": {
        "id": "X-0TMrXtGZr9"
      }
    },
    {
      "cell_type": "code",
      "source": [
        "# Model compiling \n",
        "\n",
        "model.compile(optimizer='rmsprop',\n",
        "              loss='binary_crossentropy',\n",
        "              metrics=['accuracy'])"
      ],
      "metadata": {
        "id": "A4oVyzXHknWA"
      },
      "execution_count": 9,
      "outputs": []
    },
    {
      "cell_type": "markdown",
      "source": [
        "Setting a part of training data as validation data"
      ],
      "metadata": {
        "id": "23c0QUKkGhd8"
      }
    },
    {
      "cell_type": "code",
      "source": [
        "# Creating validation Set\n",
        "\n",
        "x_val = x_train[:10000]\n",
        "partial_x_train = x_train[10000:]\n",
        "\n",
        "y_val = y_train[:10000]\n",
        "partial_y_train = y_train[10000:]"
      ],
      "metadata": {
        "id": "DhRlhYmtlIIh"
      },
      "execution_count": 10,
      "outputs": []
    },
    {
      "cell_type": "markdown",
      "source": [
        "Running the model in validation data with 10 epochs"
      ],
      "metadata": {
        "id": "R-61Rk_KGpS7"
      }
    },
    {
      "cell_type": "code",
      "source": [
        "# Running model in Validation Set\n",
        "\n",
        "history = model.fit(\n",
        "partial_x_train, partial_y_train,\n",
        " epochs= 10,\n",
        " batch_size = 512,\n",
        " validation_data = (x_val, y_val))\n"
      ],
      "metadata": {
        "colab": {
          "base_uri": "https://localhost:8080/"
        },
        "id": "QMqhiXSIlwvN",
        "outputId": "72aa2ae0-2d60-43cd-97a9-dc7ea04d36d0"
      },
      "execution_count": 11,
      "outputs": [
        {
          "output_type": "stream",
          "name": "stdout",
          "text": [
            "Epoch 1/10\n",
            "30/30 [==============================] - 6s 138ms/step - loss: 0.5324 - accuracy: 0.7249 - val_loss: 0.3379 - val_accuracy: 0.8661\n",
            "Epoch 2/10\n",
            "30/30 [==============================] - 2s 75ms/step - loss: 0.2995 - accuracy: 0.8781 - val_loss: 0.2815 - val_accuracy: 0.8850\n",
            "Epoch 3/10\n",
            "30/30 [==============================] - 2s 78ms/step - loss: 0.2170 - accuracy: 0.9169 - val_loss: 0.3766 - val_accuracy: 0.8497\n",
            "Epoch 4/10\n",
            "30/30 [==============================] - 2s 73ms/step - loss: 0.1752 - accuracy: 0.9309 - val_loss: 0.3362 - val_accuracy: 0.8649\n",
            "Epoch 5/10\n",
            "30/30 [==============================] - 6s 213ms/step - loss: 0.1440 - accuracy: 0.9441 - val_loss: 0.3290 - val_accuracy: 0.8752\n",
            "Epoch 6/10\n",
            "30/30 [==============================] - 3s 102ms/step - loss: 0.1097 - accuracy: 0.9585 - val_loss: 0.3386 - val_accuracy: 0.8788\n",
            "Epoch 7/10\n",
            "30/30 [==============================] - 2s 75ms/step - loss: 0.0889 - accuracy: 0.9681 - val_loss: 0.4492 - val_accuracy: 0.8645\n",
            "Epoch 8/10\n",
            "30/30 [==============================] - 2s 70ms/step - loss: 0.0672 - accuracy: 0.9745 - val_loss: 0.4565 - val_accuracy: 0.8781\n",
            "Epoch 9/10\n",
            "30/30 [==============================] - 3s 102ms/step - loss: 0.0530 - accuracy: 0.9795 - val_loss: 0.5433 - val_accuracy: 0.8765\n",
            "Epoch 10/10\n",
            "30/30 [==============================] - 3s 87ms/step - loss: 0.0598 - accuracy: 0.9818 - val_loss: 0.5431 - val_accuracy: 0.8779\n"
          ]
        }
      ]
    },
    {
      "cell_type": "code",
      "source": [
        "#Creating a History Object\n",
        "\n",
        "history_dict = history.history\n",
        "history_dict.keys()"
      ],
      "metadata": {
        "colab": {
          "base_uri": "https://localhost:8080/"
        },
        "id": "Q-90sUBBp5PV",
        "outputId": "cc3da405-8652-4cd3-f65f-a2e12a289cbd"
      },
      "execution_count": 12,
      "outputs": [
        {
          "output_type": "execute_result",
          "data": {
            "text/plain": [
              "dict_keys(['loss', 'accuracy', 'val_loss', 'val_accuracy'])"
            ]
          },
          "metadata": {},
          "execution_count": 12
        }
      ]
    },
    {
      "cell_type": "markdown",
      "source": [
        "Plotting Training and Validation Loss to find optimal number of epochs"
      ],
      "metadata": {
        "id": "Yd9mb4F5HA24"
      }
    },
    {
      "cell_type": "code",
      "source": [
        "# Plotting Training and Validation Loss\n",
        "\n",
        "import matplotlib.pyplot as plt\n",
        "\n",
        "acc = history.history['accuracy']\n",
        "val_acc = history.history['val_accuracy']\n",
        "loss = history.history['loss']\n",
        "val_loss = history.history['val_loss']\n",
        "\n",
        "epochs = range(1, len(acc) + 1)\n",
        "\n",
        "# \"bo\" is for \"blue dot\"\n",
        "plt.plot(epochs, loss, 'bo', label='Training loss')\n",
        "# b is for \"solid blue line\"\n",
        "plt.plot(epochs, val_loss, 'b', label='Validation loss')\n",
        "plt.title('Training and validation loss')\n",
        "plt.xlabel('Epochs')\n",
        "plt.ylabel('Loss')\n",
        "plt.legend()\n",
        "\n",
        "plt.show()"
      ],
      "metadata": {
        "colab": {
          "base_uri": "https://localhost:8080/",
          "height": 295
        },
        "id": "bgm2M-VUp8iq",
        "outputId": "07b7840e-c855-404b-b102-89141e8f8a60"
      },
      "execution_count": 13,
      "outputs": [
        {
          "output_type": "display_data",
          "data": {
            "text/plain": [
              "<Figure size 432x288 with 1 Axes>"
            ],
            "image/png": "[encoded data removed]"
          },
          "metadata": {
            "needs_background": "light"
          }
        }
      ]
    },
    {
      "cell_type": "markdown",
      "source": [
        "Optimal number of epochs=2 ,Training validation loss increases as epoch goes above 2 due to over-fitting."
      ],
      "metadata": {
        "id": "dqb6Lca4HKZU"
      }
    },
    {
      "cell_type": "markdown",
      "source": [
        "Re-building the model with drop-out"
      ],
      "metadata": {
        "id": "aHYeJptdHdTc"
      }
    },
    {
      "cell_type": "code",
      "source": [
        "# Model building for test set\n",
        "\n",
        "model = models.Sequential()\n",
        "# Input - Layer\n",
        "model.add(layers.Dense(64, activation = \"tanh\", input_shape=(10000, )))\n",
        "# Hidden - Layers\n",
        "model.add(layers.Dropout(0.1, noise_shape=None, seed=None))\n",
        "model.add(layers.Dense(64, activation = \"relu\"))\n",
        "model.add(layers.Dropout(0.1, noise_shape=None, seed=None))\n",
        "model.add(layers.Dense(64, activation = \"relu\"))\n",
        "# Output- Layer\n",
        "model.add(layers.Dense(1, activation = \"sigmoid\"))\n",
        "model.summary()"
      ],
      "metadata": {
        "colab": {
          "base_uri": "https://localhost:8080/"
        },
        "id": "nS9WtzolCJ_7",
        "outputId": "90b51758-7e0c-44c9-fca4-93e267364ec9"
      },
      "execution_count": 14,
      "outputs": [
        {
          "output_type": "stream",
          "name": "stdout",
          "text": [
            "Model: \"sequential_1\"\n",
            "_________________________________________________________________\n",
            " Layer (type)                Output Shape              Param #   \n",
            "=================================================================\n",
            " dense_5 (Dense)             (None, 64)                640064    \n",
            "                                                                 \n",
            " dropout (Dropout)           (None, 64)                0         \n",
            "                                                                 \n",
            " dense_6 (Dense)             (None, 64)                4160      \n",
            "                                                                 \n",
            " dropout_1 (Dropout)         (None, 64)                0         \n",
            "                                                                 \n",
            " dense_7 (Dense)             (None, 64)                4160      \n",
            "                                                                 \n",
            " dense_8 (Dense)             (None, 1)                 65        \n",
            "                                                                 \n",
            "=================================================================\n",
            "Total params: 648,449\n",
            "Trainable params: 648,449\n",
            "Non-trainable params: 0\n",
            "_________________________________________________________________\n"
          ]
        }
      ]
    },
    {
      "cell_type": "markdown",
      "source": [
        "Compiling the model with hyper-parameters learning rate-0.0001"
      ],
      "metadata": {
        "id": "IEIr8m-ILDuu"
      }
    },
    {
      "cell_type": "code",
      "source": [
        "# Model compiling & setting hyperparameters\n",
        "\n",
        "learning_rate = 0.0001\n",
        "optimizer = Adam(lr=learning_rate)\n",
        "model.compile(loss='binary_crossentropy', optimizer=optimizer, metrics=['accuracy'])"
      ],
      "metadata": {
        "colab": {
          "base_uri": "https://localhost:8080/"
        },
        "id": "RuxrPsEiCaCE",
        "outputId": "b1b00db9-e151-4ef7-886c-120f1adef318"
      },
      "execution_count": 15,
      "outputs": [
        {
          "output_type": "stream",
          "name": "stderr",
          "text": [
            "WARNING:absl:`lr` is deprecated, please use `learning_rate` instead, or use the legacy optimizer, e.g.,tf.keras.optimizers.legacy.Adam.\n"
          ]
        }
      ]
    },
    {
      "cell_type": "markdown",
      "source": [
        "Running the model in training set by setting epochs =2 to prevent over-fitting."
      ],
      "metadata": {
        "id": "DXolhtoTHojQ"
      }
    },
    {
      "cell_type": "code",
      "source": [
        "# Running model with 2 epochs \n",
        "\n",
        "results = model.fit(\n",
        " x_train, y_train,\n",
        " epochs= 2,\n",
        " batch_size = 512,\n",
        " validation_data = (x_val,y_val))\n",
        "\n"
      ],
      "metadata": {
        "id": "zB7u8jyyondN",
        "colab": {
          "base_uri": "https://localhost:8080/"
        },
        "outputId": "7d279c0d-876b-4977-b9ba-b15749908d93"
      },
      "execution_count": 16,
      "outputs": [
        {
          "output_type": "stream",
          "name": "stdout",
          "text": [
            "Epoch 1/2\n",
            "49/49 [==============================] - 10s 153ms/step - loss: 0.3980 - accuracy: 0.8256 - val_loss: 0.1996 - val_accuracy: 0.9291\n",
            "Epoch 2/2\n",
            "49/49 [==============================] - 3s 69ms/step - loss: 0.1927 - accuracy: 0.9299 - val_loss: 0.1250 - val_accuracy: 0.9652\n"
          ]
        }
      ]
    },
    {
      "cell_type": "markdown",
      "source": [
        "Running the model in test set\n"
      ],
      "metadata": {
        "id": "SYb5-KPALLgG"
      }
    },
    {
      "cell_type": "code",
      "source": [
        "results = model.fit(\n",
        " x_train, y_train,\n",
        " epochs= 2,\n",
        " batch_size = 512,\n",
        " validation_data = (x_test,y_test))"
      ],
      "metadata": {
        "colab": {
          "base_uri": "https://localhost:8080/"
        },
        "id": "hMY1S914LKFE",
        "outputId": "f0eaa221-3c25-4552-a54e-8231899d8d68"
      },
      "execution_count": 17,
      "outputs": [
        {
          "output_type": "stream",
          "name": "stdout",
          "text": [
            "Epoch 1/2\n",
            "49/49 [==============================] - 7s 134ms/step - loss: 0.1375 - accuracy: 0.9522 - val_loss: 0.3443 - val_accuracy: 0.8709\n",
            "Epoch 2/2\n",
            "49/49 [==============================] - 4s 79ms/step - loss: 0.1005 - accuracy: 0.9653 - val_loss: 0.4017 - val_accuracy: 0.8674\n"
          ]
        }
      ]
    }
  ]
}